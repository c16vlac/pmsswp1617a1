{
 "cells": [
  {
   "cell_type": "markdown",
   "metadata": {},
   "source": []
  },
  {
   "cell_type": "code",
   "execution_count": 8,
   "metadata": {
    "collapsed": false
   },
   "outputs": [
    {
     "name": "stdout",
     "output_type": "stream",
     "text": [
      "[['_:0', 'http://dilab77.ionio.gr/swp/vlachos/vocab#year', '#:2'], ['_:0', 'http://dilab77.ionio.gr/swp/vlachos/vocab#dialexh', '#:28/02/2017'], ['_:1', 'http://dilab77.ionio.gr/swp/vlachos/vocab#Professor', 'http://dilab77.ionio.gr/swp/vlachos/resource/patelh'], ['_:1', 'http://dilab77.ionio.gr/swp/vlachos/vocab#course', 'http://dilab77.ionio.gr/swp/vlachos/resource/epixhrein'], ['_:1', 'http://dilab77.ionio.gr/swp/vlachos/vocab#class', 'http://dilab77.ionio.gr/swp/vlachos/resource/aith1'], ['_:1', 'http://dilab77.ionio.gr/swp/vlachos/vocab#year', '#:2'], ['_:1', 'http://dilab77.ionio.gr/swp/vlachos/vocab#dialexh', '#:29/02/2017'], ['_:2', 'http://dilab77.ionio.gr/swp/vlachos/vocab#Professor', 'http://dilab77.ionio.gr/swp/vlachos/resource/mylonas'], ['_:2', 'http://dilab77.ionio.gr/swp/vlachos/vocab#course', 'http://dilab77.ionio.gr/swp/vlachos/resource/texniti'], ['_:2', 'http://dilab77.ionio.gr/swp/vlachos/vocab#class', 'http://dilab77.ionio.gr/swp/vlachos/resource/aith2'], ['_:2', 'http://dilab77.ionio.gr/swp/vlachos/vocab#year', '#:2'], ['_:2', 'http://dilab77.ionio.gr/swp/vlachos/vocab#dialexh', '#:06/03/17'], ['_:3', 'http://dilab77.ionio.gr/swp/vlachos/vocab#Professor', 'http://dilab77.ionio.gr/swp/vlachos/resource/aulonitis'], ['_:3', 'http://dilab77.ionio.gr/swp/vlachos/vocab#course', 'http://dilab77.ionio.gr/swp/vlachos/resource/stoxastikes'], ['_:3', 'http://dilab77.ionio.gr/swp/vlachos/vocab#class', 'http://dilab77.ionio.gr/swp/vlachos/resource/aith1'], ['_:3', 'http://dilab77.ionio.gr/swp/vlachos/vocab#year', '#:2'], ['_:3', 'http://dilab77.ionio.gr/swp/vlachos/vocab#dialexh', '#:02/03/17'], ['_:4', 'http://dilab77.ionio.gr/swp/vlachos/vocab#Professor', 'http://dilab77.ionio.gr/swp/vlachos/resource/tsoxou'], ['_:4', 'http://dilab77.ionio.gr/swp/vlachos/vocab#course', 'http://dilab77.ionio.gr/swp/vlachos/resource/security'], ['_:4', 'http://dilab77.ionio.gr/swp/vlachos/vocab#class', 'http://dilab77.ionio.gr/swp/vlachos/resource/aith3'], ['_:4', 'http://dilab77.ionio.gr/swp/vlachos/vocab#year', '#:2'], ['_:4', 'http://dilab77.ionio.gr/swp/vlachos/vocab#dialexh', '#:06/03/17']]\n"
     ]
    }
   ],
   "source": [
    "import csv\n",
    "\n",
    "eavlist = []\n",
    "\n",
    "with open('URIs.csv','r',newline='') as ifp:\n",
    "    ir = csv.reader(ifp)\n",
    "    headers = next(ir)\n",
    "    \n",
    "    for row in ir:\n",
    "        eavlist.append(row)  \n",
    "\n",
    "print(eavlist)"
   ]
  },
  {
   "cell_type": "markdown",
   "metadata": {},
   "source": [
    "## ΔΗΜΙΟΥΡΓΙΑ ΑΡΧΙΚΟΥ ΚΩΔΙΚΑ N-TRIPLES"
   ]
  },
  {
   "cell_type": "code",
   "execution_count": 9,
   "metadata": {
    "collapsed": false
   },
   "outputs": [
    {
     "name": "stdout",
     "output_type": "stream",
     "text": [
      "[['_:0', '<http://dilab77.ionio.gr/swp/vlachos/vocab#year>', '\"2\"'], ['_:0', '<http://dilab77.ionio.gr/swp/vlachos/vocab#dialexh>', '\"28-02-2017\"'], ['_:1', '<http://dilab77.ionio.gr/swp/vlachos/vocab#Professor>', '<http://dilab77.ionio.gr/swp/vlachos/resource/patelh>'], ['_:1', '<http://dilab77.ionio.gr/swp/vlachos/vocab#course>', '<http://dilab77.ionio.gr/swp/vlachos/resource/epixhrein>'], ['_:1', '<http://dilab77.ionio.gr/swp/vlachos/vocab#class>', '<http://dilab77.ionio.gr/swp/vlachos/resource/aith1>'], ['_:1', '<http://dilab77.ionio.gr/swp/vlachos/vocab#year>', '\"2\"'], ['_:1', '<http://dilab77.ionio.gr/swp/vlachos/vocab#dialexh>', '\"29-02-2017\"'], ['_:2', '<http://dilab77.ionio.gr/swp/vlachos/vocab#Professor>', '<http://dilab77.ionio.gr/swp/vlachos/resource/mylonas>'], ['_:2', '<http://dilab77.ionio.gr/swp/vlachos/vocab#course>', '<http://dilab77.ionio.gr/swp/vlachos/resource/texniti>'], ['_:2', '<http://dilab77.ionio.gr/swp/vlachos/vocab#class>', '<http://dilab77.ionio.gr/swp/vlachos/resource/aith2>'], ['_:2', '<http://dilab77.ionio.gr/swp/vlachos/vocab#year>', '\"2\"'], ['_:2', '<http://dilab77.ionio.gr/swp/vlachos/vocab#dialexh>', '\"06-03-17\"'], ['_:3', '<http://dilab77.ionio.gr/swp/vlachos/vocab#Professor>', '<http://dilab77.ionio.gr/swp/vlachos/resource/aulonitis>'], ['_:3', '<http://dilab77.ionio.gr/swp/vlachos/vocab#course>', '<http://dilab77.ionio.gr/swp/vlachos/resource/stoxastikes>'], ['_:3', '<http://dilab77.ionio.gr/swp/vlachos/vocab#class>', '<http://dilab77.ionio.gr/swp/vlachos/resource/aith1>'], ['_:3', '<http://dilab77.ionio.gr/swp/vlachos/vocab#year>', '\"2\"'], ['_:3', '<http://dilab77.ionio.gr/swp/vlachos/vocab#dialexh>', '\"02-03-17\"'], ['_:4', '<http://dilab77.ionio.gr/swp/vlachos/vocab#Professor>', '<http://dilab77.ionio.gr/swp/vlachos/resource/tsoxou>'], ['_:4', '<http://dilab77.ionio.gr/swp/vlachos/vocab#course>', '<http://dilab77.ionio.gr/swp/vlachos/resource/security>'], ['_:4', '<http://dilab77.ionio.gr/swp/vlachos/vocab#class>', '<http://dilab77.ionio.gr/swp/vlachos/resource/aith3>'], ['_:4', '<http://dilab77.ionio.gr/swp/vlachos/vocab#year>', '\"2\"'], ['_:4', '<http://dilab77.ionio.gr/swp/vlachos/vocab#dialexh>', '\"06-03-17\"']]\n"
     ]
    }
   ],
   "source": [
    "import re\n",
    "\n",
    "rexp = re.compile(\"/\")\n",
    "\n",
    "def q_f(m):\n",
    "    return '-'.format(ord(m.group(0)))\n",
    "\n",
    "def date(s):\n",
    "    return rexp.sub(q_f,s)\n",
    "\n",
    "triples = []\n",
    "for e,a,v in eavlist:\n",
    "     \n",
    "    if a.startswith('http'):\n",
    "        a = '<'+a+'>' \n",
    "    if v.startswith('http'): \n",
    "        v = '<'+v+'>'\n",
    "    if a == '<http://dilab77.ionio.gr/swp/vlachos/vocab#year>':\n",
    "        v = '\"'+v[2:]+'\"'\n",
    "    if a == '<http://dilab77.ionio.gr/swp/vlachos/vocab#dialexh>':\n",
    "        v = date('\"'+v[2:]+'\"')\n",
    "    triples.append([e,a,v])\n",
    "    \n",
    "\n",
    "\n",
    "print(triples)"
   ]
  },
  {
   "cell_type": "markdown",
   "metadata": {},
   "source": [
    "## ΔΗΜΙΟΥΡΓΙΑ N-TRIPLES ΜΕ ΜΟΡΦΗ \n",
    "\n",
    "...\n",
    "\n",
    "<your-uri> rdf:type <type-of-this-uri> .\n",
    "..."
   ]
  },
  {
   "cell_type": "raw",
   "metadata": {},
   "source": []
  },
  {
   "cell_type": "code",
   "execution_count": 10,
   "metadata": {
    "collapsed": false
   },
   "outputs": [
    {
     "name": "stdout",
     "output_type": "stream",
     "text": [
      "_:0 <http://www.w3.org/1999/02/22-rdf-syntax-ns#type> <http://dilab77.ionio.gr/swp/vlachos/vocab#Year>\n",
      "_:0 <http://www.w3.org/1999/02/22-rdf-syntax-ns#type> <http://dilab77.ionio.gr/swp/vlachos/vocab#Dialexh>\n",
      "<http://dilab77.ionio.gr/swp/vlachos/resource/patelh> <http://www.w3.org/1999/02/22-rdf-syntax-ns#type> <http://dilab77.ionio.gr/swp/vlachos/vocab#Professor> .\n",
      "<http://dilab77.ionio.gr/swp/vlachos/resource/epixhrein> <http://www.w3.org/1999/02/22-rdf-syntax-ns#type> <http://dilab77.ionio.gr/swp/vlachos/vocab#Course> .\n",
      "<http://dilab77.ionio.gr/swp/vlachos/resource/aith1> <http://www.w3.org/1999/02/22-rdf-syntax-ns#type> <http://dilab77.ionio.gr/swp/vlachos/vocab#Class> .\n",
      "_:1 <http://www.w3.org/1999/02/22-rdf-syntax-ns#type> <http://dilab77.ionio.gr/swp/vlachos/vocab#Year>\n",
      "_:1 <http://www.w3.org/1999/02/22-rdf-syntax-ns#type> <http://dilab77.ionio.gr/swp/vlachos/vocab#Dialexh>\n",
      "<http://dilab77.ionio.gr/swp/vlachos/resource/mylonas> <http://www.w3.org/1999/02/22-rdf-syntax-ns#type> <http://dilab77.ionio.gr/swp/vlachos/vocab#Professor> .\n",
      "<http://dilab77.ionio.gr/swp/vlachos/resource/texniti> <http://www.w3.org/1999/02/22-rdf-syntax-ns#type> <http://dilab77.ionio.gr/swp/vlachos/vocab#Course> .\n",
      "<http://dilab77.ionio.gr/swp/vlachos/resource/aith2> <http://www.w3.org/1999/02/22-rdf-syntax-ns#type> <http://dilab77.ionio.gr/swp/vlachos/vocab#Class> .\n",
      "_:2 <http://www.w3.org/1999/02/22-rdf-syntax-ns#type> <http://dilab77.ionio.gr/swp/vlachos/vocab#Year>\n",
      "_:2 <http://www.w3.org/1999/02/22-rdf-syntax-ns#type> <http://dilab77.ionio.gr/swp/vlachos/vocab#Dialexh>\n",
      "<http://dilab77.ionio.gr/swp/vlachos/resource/aulonitis> <http://www.w3.org/1999/02/22-rdf-syntax-ns#type> <http://dilab77.ionio.gr/swp/vlachos/vocab#Professor> .\n",
      "<http://dilab77.ionio.gr/swp/vlachos/resource/stoxastikes> <http://www.w3.org/1999/02/22-rdf-syntax-ns#type> <http://dilab77.ionio.gr/swp/vlachos/vocab#Course> .\n",
      "_:3 <http://www.w3.org/1999/02/22-rdf-syntax-ns#type> <http://dilab77.ionio.gr/swp/vlachos/vocab#Year>\n",
      "_:3 <http://www.w3.org/1999/02/22-rdf-syntax-ns#type> <http://dilab77.ionio.gr/swp/vlachos/vocab#Dialexh>\n",
      "<http://dilab77.ionio.gr/swp/vlachos/resource/tsoxou> <http://www.w3.org/1999/02/22-rdf-syntax-ns#type> <http://dilab77.ionio.gr/swp/vlachos/vocab#Professor> .\n",
      "<http://dilab77.ionio.gr/swp/vlachos/resource/security> <http://www.w3.org/1999/02/22-rdf-syntax-ns#type> <http://dilab77.ionio.gr/swp/vlachos/vocab#Course> .\n",
      "<http://dilab77.ionio.gr/swp/vlachos/resource/aith3> <http://www.w3.org/1999/02/22-rdf-syntax-ns#type> <http://dilab77.ionio.gr/swp/vlachos/vocab#Class> .\n",
      "_:4 <http://www.w3.org/1999/02/22-rdf-syntax-ns#type> <http://dilab77.ionio.gr/swp/vlachos/vocab#Year>\n",
      "_:4 <http://www.w3.org/1999/02/22-rdf-syntax-ns#type> <http://dilab77.ionio.gr/swp/vlachos/vocab#Dialexh>\n"
     ]
    }
   ],
   "source": [
    "visited = set()\n",
    "with open('myN-triple.nt','w') as ofp:\n",
    "    for e,a,v in triples:\n",
    "        r='<http://www.w3.org/1999/02/22-rdf-syntax-ns#type>'\n",
    "        \n",
    "        if e not in visited and a.endswith('year>'):\n",
    "            visited.add(e)\n",
    "            print(e,r,'<http://dilab77.ionio.gr/swp/vlachos/vocab#Year>')\n",
    "            print(e,r,'<http://dilab77.ionio.gr/swp/vlachos/vocab#Dialexh>')\n",
    "\n",
    "            ofp.write('{} {} {} . \\n'.format(e,r,'<http://dilab77.ionio.gr/swp/vlachos/vocab#Year>'))\n",
    "            ofp.write('{} {} {} . \\n'.format(e,r,'<http://dilab77.ionio.gr/swp/vlachos/vocab#Dialexh>'))\n",
    "            \n",
    "        \n",
    "            \n",
    "        if a=='<http://dilab77.ionio.gr/swp/vlachos/vocab#Professor>':\n",
    "\n",
    "            if v not in visited:\n",
    "                visited.add(v)\n",
    "           \n",
    "                print('{} {} {} .'.format(v,r,'<http://dilab77.ionio.gr/swp/vlachos/vocab#Professor>'))\n",
    "                ofp.write('{} {} {} . \\n'.format(v,r,'<http://dilab77.ionio.gr/swp/vlachos/vocab#Professor>'))  \n",
    "                \n",
    "        if a=='<http://dilab77.ionio.gr/swp/vlachos/vocab#class>':\n",
    "\n",
    "             if v not in visited:\n",
    "                visited.add(v)\n",
    " \n",
    "                print('{} {} {} .'.format(v,r,'<http://dilab77.ionio.gr/swp/vlachos/vocab#Class>'))\n",
    "                ofp.write('{} {} {} . \\n'.format(v,r,'<http://dilab77.ionio.gr/swp/vlachos/vocab#Class>'))\n",
    "        if a=='<http://dilab77.ionio.gr/swp/vlachos/vocab#course>':\n",
    "            if v not in visited:\n",
    "                visited.add(v)\n",
    "\n",
    "                print('{} {} {} .'.format(v,r,'<http://dilab77.ionio.gr/swp/vlachos/vocab#Course>'))\n",
    "                ofp.write('{} {} {} . \\n'.format(v,r,'<http://dilab77.ionio.gr/swp/vlachos/vocab#Course>'))"
   ]
  },
  {
   "cell_type": "markdown",
   "metadata": {},
   "source": [
    "## ΕΠΙΚΥΡΟΠΟΙΗΣΗ ΤΟΥ ΑΡΧΕΙΟΥ N-TRIPLES"
   ]
  },
  {
   "cell_type": "code",
   "execution_count": 11,
   "metadata": {
    "collapsed": false
   },
   "outputs": [],
   "source": [
    "# δώστε την εντολή του παραδείγματος\n",
    "!riot --validate myN-triple.nt"
   ]
  },
  {
   "cell_type": "markdown",
   "metadata": {},
   "source": []
  },
  {
   "cell_type": "code",
   "execution_count": null,
   "metadata": {
    "collapsed": false
   },
   "outputs": [],
   "source": []
  },
  {
   "cell_type": "code",
   "execution_count": 7,
   "metadata": {
    "collapsed": true
   },
   "outputs": [],
   "source": []
  },
  {
   "cell_type": "markdown",
   "metadata": {},
   "source": []
  }
 ],
 "metadata": {
  "kernelspec": {
   "display_name": "Python 3",
   "language": "python",
   "name": "python3"
  },
  "language_info": {
   "codemirror_mode": {
    "name": "ipython",
    "version": 3
   },
   "file_extension": ".py",
   "mimetype": "text/x-python",
   "name": "python",
   "nbconvert_exporter": "python",
   "pygments_lexer": "ipython3",
   "version": "3.4.4"
  }
 },
 "nbformat": 4,
 "nbformat_minor": 0
}
